{
 "cells": [
  {
   "cell_type": "code",
   "execution_count": 13,
   "id": "048f393e",
   "metadata": {},
   "outputs": [],
   "source": []
  },
  {
   "cell_type": "code",
   "execution_count": 14,
   "id": "cec7b4dd",
   "metadata": {},
   "outputs": [],
   "source": [
    "import os\n",
    "import cv2\n",
    "\n",
    "def extract_keyframes(video_path, output_dir, frame_rate, count):\n",
    "    if not os.path.exists(output_dir):\n",
    "        os.makedirs(output_dir)\n",
    "\n",
    "    video_capture = cv2.VideoCapture(video_path)\n",
    "    frame_count = 0\n",
    "\n",
    "    while True:\n",
    "        ret, frame = video_capture.read()\n",
    "\n",
    "        if not ret:\n",
    "            break\n",
    "\n",
    "        if frame_count % frame_rate == 0:\n",
    "            frame_filename = os.path.join(output_dir, f\"{count}_{frame_count}.jpg\")\n",
    "            cv2.imwrite(frame_filename, frame)\n",
    "\n",
    "        frame_count += 1\n",
    "    video_capture.release()\n",
    "    \n",
    "def extract_keyframes_from_folder(input_folder, output_folder):\n",
    "    if not os.path.exists(output_folder):\n",
    "        os.makedirs(output_folder)\n",
    "    count = 1\n",
    "    for file_name in os.listdir(input_folder):\n",
    "        if file_name.endswith(('.mp4')):\n",
    "            video_path = os.path.join(input_folder, file_name)\n",
    "            extract_keyframes(video_path, output_folder, frame_rate, count)\n",
    "            count +=1 \n",
    "\n",
    "frame_rate = 25\n",
    "input_folder = \"C:\\\\Users\\\\sarat\\\\Desktop\\\\videos\"\n",
    "output_folder = \"C:\\\\Users\\\\sarat\\\\Desktop\\\\keyframes\"\n",
    "extract_keyframes_from_folder(input_folder, output_folder)"
   ]
  },
  {
   "cell_type": "code",
   "execution_count": 10,
   "id": "cb32fc15",
   "metadata": {},
   "outputs": [
    {
     "name": "stdout",
     "output_type": "stream",
     "text": [
      "['1054823537-preview.mp4', '51.mp4', 'resized_video2.mp4', 'video (2160p) (1).mp4', 'video (2160p).mp4']\n"
     ]
    }
   ],
   "source": [
    "print(os.listdir(input_folder))"
   ]
  }
 ],
 "metadata": {
  "kernelspec": {
   "display_name": "Python 3 (ipykernel)",
   "language": "python",
   "name": "python3"
  },
  "language_info": {
   "codemirror_mode": {
    "name": "ipython",
    "version": 3
   },
   "file_extension": ".py",
   "mimetype": "text/x-python",
   "name": "python",
   "nbconvert_exporter": "python",
   "pygments_lexer": "ipython3",
   "version": "3.11.4"
  }
 },
 "nbformat": 4,
 "nbformat_minor": 5
}

{
 "cells": [
  {
   "cell_type": "code",
   "execution_count": 2,
   "id": "67f4524f",
   "metadata": {},
   "outputs": [
    {
     "name": "stdout",
     "output_type": "stream",
     "text": [
      "Video resizing/compression complete. Output saved at: C:\\Users\\sarat\\Desktop\\video_aug\\resized_video2.mp4\n"
     ]
    }
   ],
   "source": []
  },
  {
   "cell_type": "code",
   "execution_count": 3,
   "id": "8350267f",
   "metadata": {},
   "outputs": [
    {
     "name": "stdout",
     "output_type": "stream",
     "text": [
      "Video resizing/compression complete. Output saved at: C:\\Users\\sarat\\Desktop\\video_aug\\resized_video3.mp4\n"
     ]
    }
   ],
   "source": []
  },
  {
   "cell_type": "code",
   "execution_count": null,
   "id": "a6efe77e",
   "metadata": {},
   "outputs": [],
   "source": []
  },
  {
   "cell_type": "code",
   "execution_count": null,
   "id": "348eb23b",
   "metadata": {},
   "outputs": [
    {
     "name": "stdout",
     "output_type": "stream",
     "text": [
      "Video compression complete. Output saved at: C:\\Users\\sarat\\Desktop\\compressed\\compressed_1054823537-preview.mp4\n",
      "Video compression complete. Output saved at: C:\\Users\\sarat\\Desktop\\compressed\\compressed_51.mp4\n",
      "Video compression complete. Output saved at: C:\\Users\\sarat\\Desktop\\compressed\\compressed_resized_video2.mp4\n",
      "Video compression complete. Output saved at: C:\\Users\\sarat\\Desktop\\compressed\\compressed_video (2160p) (1).mp4\n"
     ]
    }
   ],
   "source": [
    "import os\n",
    "import cv2\n",
    "\n",
    "def compress_videos_in_folder(input_folder, output_folder, target_file_size_bytes):\n",
    "    if not os.path.exists(output_folder):\n",
    "        os.makedirs(output_folder)\n",
    "\n",
    "    for file_name in os.listdir(input_folder):\n",
    "        if file_name.endswith(('.mp4', '.avi', '.mov', '.mkv')): \n",
    "            input_video_path = os.path.join(input_folder, file_name)\n",
    "            output_video_path = os.path.join(output_folder, f'compressed_{file_name}')\n",
    "\n",
    "            cap = cv2.VideoCapture(input_video_path)\n",
    "\n",
    "            #properties\n",
    "            fps = int(cap.get(cv2.CAP_PROP_FPS))\n",
    "            total_frames = int(cap.get(cv2.CAP_PROP_FRAME_COUNT))\n",
    "\n",
    "            #target bitrate\n",
    "            target_bitrate = (target_file_size_bytes * 8) / (total_frames / fps)\n",
    "    \n",
    "            fourcc = cv2.VideoWriter_fourcc(*'mp4v')\n",
    "            out = cv2.VideoWriter(output_video_path, fourcc, fps, (640, 480), True)\n",
    "\n",
    "            while True:\n",
    "                ret, frame = cap.read()\n",
    "                if not ret:\n",
    "                    break\n",
    "\n",
    "                resized_frame = cv2.resize(frame, (640, 480))\n",
    "\n",
    "                out.write(resized_frame)\n",
    "\n",
    "                if os.path.getsize(output_video_path) > target_file_size_bytes:\n",
    "                    break\n",
    "\n",
    "            \n",
    "            cap.release()\n",
    "            out.release()\n",
    "\n",
    "            print(f\"Video compression complete. Output saved at: {output_video_path}\")\n",
    "\n",
    "input_folder = \"C:\\\\Users\\\\sarat\\\\Desktop\\\\videos\"\n",
    "output_folder = \"C:\\\\Users\\\\sarat\\\\Desktop\\\\compressed\"\n",
    "target_file_size_bytes = 4 * 1024 * 1024  #4mb max\n",
    "compress_videos_in_folder(input_folder, output_folder, target_file_size_bytes)"
   ]
  }
 ],
 "metadata": {
  "kernelspec": {
   "display_name": "Python 3 (ipykernel)",
   "language": "python",
   "name": "python3"
  },
  "language_info": {
   "codemirror_mode": {
    "name": "ipython",
    "version": 3
   },
   "file_extension": ".py",
   "mimetype": "text/x-python",
   "name": "python",
   "nbconvert_exporter": "python",
   "pygments_lexer": "ipython3",
   "version": "3.11.4"
  }
 },
 "nbformat": 4,
 "nbformat_minor": 5
}
